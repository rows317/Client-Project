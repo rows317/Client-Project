{
 "cells": [
  {
   "cell_type": "markdown",
   "metadata": {},
   "source": [
    "### Install/Import Packages and Data"
   ]
  },
  {
   "cell_type": "code",
   "execution_count": null,
   "metadata": {},
   "outputs": [],
   "source": [
    "# pip install folium"
   ]
  },
  {
   "cell_type": "code",
   "execution_count": 111,
   "metadata": {},
   "outputs": [],
   "source": [
    "import folium\n",
    "from folium.plugins import MarkerCluster"
   ]
  },
  {
   "cell_type": "code",
   "execution_count": 2,
   "metadata": {},
   "outputs": [],
   "source": [
    "import pandas as pd"
   ]
  },
  {
   "cell_type": "code",
   "execution_count": 3,
   "metadata": {},
   "outputs": [],
   "source": [
    "final_df = pd.read_csv('./data/final_df.csv')"
   ]
  },
  {
   "cell_type": "code",
   "execution_count": 114,
   "metadata": {},
   "outputs": [],
   "source": [
    "latlong = final_df.drop(columns = ['address','Unnamed: 0'])"
   ]
  },
  {
   "cell_type": "code",
   "execution_count": 115,
   "metadata": {},
   "outputs": [
    {
     "data": {
      "text/html": [
       "<div>\n",
       "<style scoped>\n",
       "    .dataframe tbody tr th:only-of-type {\n",
       "        vertical-align: middle;\n",
       "    }\n",
       "\n",
       "    .dataframe tbody tr th {\n",
       "        vertical-align: top;\n",
       "    }\n",
       "\n",
       "    .dataframe thead th {\n",
       "        text-align: right;\n",
       "    }\n",
       "</style>\n",
       "<table border=\"1\" class=\"dataframe\">\n",
       "  <thead>\n",
       "    <tr style=\"text-align: right;\">\n",
       "      <th></th>\n",
       "      <th>lat</th>\n",
       "      <th>long</th>\n",
       "      <th>zipcode</th>\n",
       "    </tr>\n",
       "  </thead>\n",
       "  <tbody>\n",
       "    <tr>\n",
       "      <th>0</th>\n",
       "      <td>40.756086</td>\n",
       "      <td>-73.979408</td>\n",
       "      <td>10036</td>\n",
       "    </tr>\n",
       "    <tr>\n",
       "      <th>1</th>\n",
       "      <td>40.701937</td>\n",
       "      <td>-73.994266</td>\n",
       "      <td>11201</td>\n",
       "    </tr>\n",
       "  </tbody>\n",
       "</table>\n",
       "</div>"
      ],
      "text/plain": [
       "         lat       long  zipcode\n",
       "0  40.756086 -73.979408    10036\n",
       "1  40.701937 -73.994266    11201"
      ]
     },
     "execution_count": 115,
     "metadata": {},
     "output_type": "execute_result"
    }
   ],
   "source": [
    "latlong.head(2)"
   ]
  },
  {
   "cell_type": "code",
   "execution_count": 116,
   "metadata": {},
   "outputs": [],
   "source": [
    "latlong.dropna(inplace=True)"
   ]
  },
  {
   "cell_type": "code",
   "execution_count": 117,
   "metadata": {},
   "outputs": [
    {
     "data": {
      "text/plain": [
       "(365740, 3)"
      ]
     },
     "execution_count": 117,
     "metadata": {},
     "output_type": "execute_result"
    }
   ],
   "source": [
    "latlong.shape"
   ]
  },
  {
   "cell_type": "code",
   "execution_count": 118,
   "metadata": {},
   "outputs": [],
   "source": [
    "#create a dictionary of latitudes and longitudes with zipcodes as keys\n",
    "latdic = latlong.groupby('zipcode')[['lat','long']].apply(lambda q: q.values.tolist()).to_dict()"
   ]
  },
  {
   "cell_type": "code",
   "execution_count": 264,
   "metadata": {},
   "outputs": [
    {
     "data": {
      "text/plain": [
       "dict_keys([10001, 10002, 10003, 10004, 10005, 10006, 10007, 10009, 10010, 10011, 10012, 10013, 10014, 10016, 10017, 10018, 10019, 10020, 10021, 10022, 10023, 10024, 10025, 10026, 10027, 10028, 10029, 10030, 10031, 10032, 10033, 10034, 10035, 10036, 10037, 10038, 10039, 10040, 10044, 10065, 10075, 10128, 10280, 11201, 11203, 11204, 11205, 11206, 11207, 11208, 11209, 11210, 11211, 11212, 11213, 11214, 11215, 11216, 11217, 11218, 11219, 11220, 11221, 11222, 11223, 11224, 11225, 11226, 11228, 11229, 11230, 11231, 11232, 11233, 11234, 11235, 11236, 11237, 11238, 11239])"
      ]
     },
     "execution_count": 264,
     "metadata": {},
     "output_type": "execute_result"
    }
   ],
   "source": [
    "latdic.keys()"
   ]
  },
  {
   "cell_type": "code",
   "execution_count": 121,
   "metadata": {},
   "outputs": [],
   "source": [
    "dfs = []\n",
    "for k in latdic.keys():\n",
    "    dfs.append(pd.DataFrame(latdic[k], columns=['lat','long']))"
   ]
  },
  {
   "cell_type": "markdown",
   "metadata": {},
   "source": [
    "## Map Creation"
   ]
  },
  {
   "cell_type": "code",
   "execution_count": 343,
   "metadata": {},
   "outputs": [],
   "source": [
    "m3 = folium.Map(location= (dfs[4]['lat'].mean(),dfs[4]['long'].mean()),\n",
    "          tiles='Stamen Toner',\n",
    "              zoom_start=12)\n",
    "\n",
    "mc = MarkerCluster()\n",
    "mc1 = MarkerCluster()\n",
    "mc2 = MarkerCluster()\n",
    "mc3 = MarkerCluster()\n",
    "mc4 = MarkerCluster()\n",
    "\n",
    "for a in range(0,124):\n",
    "    mc.add_child(folium.Marker(location = (dfs[4]['lat'][a], dfs[4]['long'][a]), \n",
    "                               popup='Avg Property Value for Lower Manhattan: $2,295,414 - Total Units in Lower Manhattan: 25624 - Median Property Value in Lower Manhattan: $1,095,210',\n",
    "                              tooltip= (dfs[4]['lat'][a], dfs[4]['long'][a], 10005)))\n",
    "for b in range(0,128):\n",
    "    mc1.add_child(folium.Marker(location = (dfs[5]['lat'][b], dfs[5]['long'][b]), \n",
    "                               popup='Avg Property Value for Lower Manhattan: $2,295,414 - Total Units in Lower Manhattan: 25624 - Median Property Value in Lower Manhattan: $1,095,210',\n",
    "                              tooltip= (dfs[5]['lat'][b], dfs[5]['long'][b], 10006)))\n",
    "for c in range(0,300):\n",
    "    mc2.add_child(folium.Marker(location = (dfs[6]['lat'][c], dfs[6]['long'][c]), \n",
    "                               popup='Avg Property Value for Lower Manhattan: $2,295,414 - Total Units in Lower Manhattan: 25624 - Median Property Value in Lower Manhattan: $1,095,210',\n",
    "                              tooltip= (dfs[6]['lat'][c], dfs[6]['long'][c], 10007)))\n",
    "    \n",
    "for d in range(0,200):\n",
    "    mc3.add_child(folium.Marker(location = (dfs[35]['lat'][d], dfs[35]['long'][d]), \n",
    "                               popup='Avg Property Value for Lower Manhattan: $2,295,414 - Total Units in Lower Manhattan: 25624 - Median Property Value in Lower Manhattan: $1,095,210',\n",
    "                              tooltip= (dfs[35]['lat'][d], dfs[35]['long'][d], 10038)))\n",
    "for e in range(0,56):\n",
    "    mc4.add_child(folium.Marker(location = (dfs[42]['lat'][e], dfs[42]['long'][e]), \n",
    "                               popup='Avg Property Value for Lower Manhattan: $2,295,414 - Total Units in Lower Manhattan: 25624 - Median Property Value in Lower Manhattan: $1,095,210',\n",
    "                              tooltip= (dfs[42]['lat'][e], dfs[42]['long'][e], 10280)))\n",
    "    \n",
    "m3.add_child(mc)\n",
    "m3.add_child(mc1)\n",
    "m3.add_child(mc2)\n",
    "m3.add_child(mc3)\n",
    "m3.add_child(mc4)\n",
    "\n",
    "m3\n",
    "\n",
    "m3.save('LowerManhattan.html')\n",
    "# maps will display when .save is commented out"
   ]
  },
  {
   "cell_type": "code",
   "execution_count": 336,
   "metadata": {},
   "outputs": [],
   "source": [
    "m2 = folium.Map(location= (latlong['lat'].mean(),latlong['long'].mean()),\n",
    "          tiles='Stamen Toner',\n",
    "              zoom_start=11)\n",
    "\n",
    "mc = MarkerCluster()\n",
    "mc1 = MarkerCluster()\n",
    "mc2 = MarkerCluster()\n",
    "\n",
    "\n",
    "for x in range(0,250):\n",
    "    mc.add_child(folium.Marker(location = (dfs[1]['lat'][x], dfs[1]['long'][x]), \n",
    "                               popup='Avg Property Value for LES: $1,813,075 - Total Units in LES: 97328 - Median Propery Value in LES: $921,666',\n",
    "                              tooltip= (dfs[1]['lat'][x], dfs[1]['long'][x], 10002)))\n",
    "    \n",
    "for y in range(0,250):\n",
    "    mc1.add_child(folium.Marker(location = (dfs[2]['lat'][y], dfs[2]['long'][y]),\n",
    "                                popup='Avg Property Value for LES: $1,813,075 - Total Units in LES: 97328 - Median Propery Value in LES: $921,666',\n",
    "                              tooltip= (dfs[2]['lat'][y], dfs[2]['long'][y], 10003)))\n",
    "    \n",
    "for z in range(0,250):\n",
    "    mc2.add_child(folium.Marker(location = (dfs[7]['lat'][z], dfs[7]['long'][z]),\n",
    "                                popup='Avg Property Value for LES: $1,813,075 - Total Units in LES: 97328 - Median Propery Value in LES: $921,666',\n",
    "                              tooltip= (dfs[7]['lat'][z], dfs[7]['long'][z], 10009)))\n",
    "       \n",
    "\n",
    "m2.add_child(mc)\n",
    "m2.add_child(mc1)\n",
    "m2.add_child(mc2)\n",
    "\n",
    "m2\n",
    "m2.save('LES.html')\n",
    "# maps display when .save is commented out"
   ]
  },
  {
   "cell_type": "code",
   "execution_count": 335,
   "metadata": {},
   "outputs": [],
   "source": [
    "m = folium.Map(location=(dfs[65]['lat'].mean(), dfs[65]['long'].mean()),\n",
    "          tiles='Stamen Toner',\n",
    "              zoom_start=10)\n",
    "\n",
    "mc = MarkerCluster()\n",
    "\n",
    "\n",
    "for x in range(0,1000):\n",
    "    mc.add_child(folium.Marker(location = (dfs[65]['lat'][x], dfs[65]['long'][x]), \n",
    "                               popup='Avg Property Value for 11224: $781,691 - Total Units in 11224: 20768 - Median Property Value for 11224: $706,135',\n",
    "                              tooltip= (dfs[65]['lat'][x], dfs[65]['long'][x], 11224)))\n",
    "       \n",
    "\n",
    "m.add_child(mc)\n",
    "\n",
    "m\n",
    "\n",
    "m.save('ConeyIsland.html')\n",
    "# maps display when .save is commented out"
   ]
  }
 ],
 "metadata": {
  "kernelspec": {
   "display_name": "Python 3",
   "language": "python",
   "name": "python3"
  },
  "language_info": {
   "codemirror_mode": {
    "name": "ipython",
    "version": 3
   },
   "file_extension": ".py",
   "mimetype": "text/x-python",
   "name": "python",
   "nbconvert_exporter": "python",
   "pygments_lexer": "ipython3",
   "version": "3.7.3"
  }
 },
 "nbformat": 4,
 "nbformat_minor": 2
}
