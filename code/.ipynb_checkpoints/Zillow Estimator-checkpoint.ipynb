{
 "cells": [
  {
   "cell_type": "markdown",
   "metadata": {},
   "source": [
    "## Contents\n",
    "- [Imports](#Imports) \n",
    "- [Data Cleaning](#Data-Cleaning)\n",
    "- [Zillow Estimator](#Zillow-Estimator-Function)\n"
   ]
  },
  {
   "cell_type": "markdown",
   "metadata": {},
   "source": [
    "### Imports"
   ]
  },
  {
   "cell_type": "code",
   "execution_count": 1,
   "metadata": {},
   "outputs": [],
   "source": [
    "import pandas as pd\n",
    "import time\n",
    "import numpy as np\n",
    "from scipy import stats\n",
    "import matplotlib.pyplot as plt\n",
    "from uszipcode import SearchEngine\n",
    "import zipfile\n",
    "search = SearchEngine(simple_zipcode=True)\n",
    "\n",
    "#zillow api\n",
    "#!pip install pyzillow\n",
    "from pyzillow.pyzillow import ZillowWrapper, GetDeepSearchResults"
   ]
  },
  {
   "cell_type": "markdown",
   "metadata": {},
   "source": [
    "### Data Cleaning"
   ]
  },
  {
   "cell_type": "code",
   "execution_count": 2,
   "metadata": {},
   "outputs": [],
   "source": [
    "zf = zipfile.ZipFile('../data/nyc_pluto_18v2_1_csv (2).zip')"
   ]
  },
  {
   "cell_type": "code",
   "execution_count": 3,
   "metadata": {
    "scrolled": true
   },
   "outputs": [
    {
     "name": "stderr",
     "output_type": "stream",
     "text": [
      "/anaconda3/envs/dsi/lib/python3.7/site-packages/IPython/core/interactiveshell.py:3049: DtypeWarning: Columns (16,17,18,20,22,77) have mixed types. Specify dtype option on import or set low_memory=False.\n",
      "  interactivity=interactivity, compiler=compiler, result=result)\n"
     ]
    }
   ],
   "source": [
    "#pulling in dataset of addresses from NYC.gov\n",
    "df = pd.read_csv(zf.open('pluto_18v2_1.csv'))"
   ]
  },
  {
   "cell_type": "code",
   "execution_count": 4,
   "metadata": {},
   "outputs": [
    {
     "data": {
      "text/html": [
       "<div>\n",
       "<style scoped>\n",
       "    .dataframe tbody tr th:only-of-type {\n",
       "        vertical-align: middle;\n",
       "    }\n",
       "\n",
       "    .dataframe tbody tr th {\n",
       "        vertical-align: top;\n",
       "    }\n",
       "\n",
       "    .dataframe thead th {\n",
       "        text-align: right;\n",
       "    }\n",
       "</style>\n",
       "<table border=\"1\" class=\"dataframe\">\n",
       "  <thead>\n",
       "    <tr style=\"text-align: right;\">\n",
       "      <th></th>\n",
       "      <th>borough</th>\n",
       "      <th>block</th>\n",
       "      <th>lot</th>\n",
       "      <th>cd</th>\n",
       "      <th>ct2010</th>\n",
       "      <th>cb2010</th>\n",
       "      <th>schooldist</th>\n",
       "      <th>council</th>\n",
       "      <th>zipcode</th>\n",
       "      <th>firecomp</th>\n",
       "      <th>...</th>\n",
       "      <th>firm07_flag</th>\n",
       "      <th>pfirm15_flag</th>\n",
       "      <th>rpaddate</th>\n",
       "      <th>dcasdate</th>\n",
       "      <th>zoningdate</th>\n",
       "      <th>landmkdate</th>\n",
       "      <th>basempdate</th>\n",
       "      <th>masdate</th>\n",
       "      <th>polidate</th>\n",
       "      <th>edesigdate</th>\n",
       "    </tr>\n",
       "  </thead>\n",
       "  <tbody>\n",
       "    <tr>\n",
       "      <th>0</th>\n",
       "      <td>BX</td>\n",
       "      <td>5641.0</td>\n",
       "      <td>670.0</td>\n",
       "      <td>210.0</td>\n",
       "      <td>516.0</td>\n",
       "      <td>2.0</td>\n",
       "      <td>NaN</td>\n",
       "      <td>13.0</td>\n",
       "      <td>NaN</td>\n",
       "      <td>NaN</td>\n",
       "      <td>...</td>\n",
       "      <td>1.0</td>\n",
       "      <td>1.0</td>\n",
       "      <td>12/6/2018</td>\n",
       "      <td>12/20/2018</td>\n",
       "      <td>12/21/2018</td>\n",
       "      <td>12/20/2018</td>\n",
       "      <td>12/21/2018</td>\n",
       "      <td>NaN</td>\n",
       "      <td>NaN</td>\n",
       "      <td>12/20/2018</td>\n",
       "    </tr>\n",
       "    <tr>\n",
       "      <th>1</th>\n",
       "      <td>QN</td>\n",
       "      <td>3935.0</td>\n",
       "      <td>3.0</td>\n",
       "      <td>407.0</td>\n",
       "      <td>929.0</td>\n",
       "      <td>1001.0</td>\n",
       "      <td>25.0</td>\n",
       "      <td>19.0</td>\n",
       "      <td>11356.0</td>\n",
       "      <td>E297</td>\n",
       "      <td>...</td>\n",
       "      <td>NaN</td>\n",
       "      <td>NaN</td>\n",
       "      <td>12/6/2018</td>\n",
       "      <td>12/20/2018</td>\n",
       "      <td>12/21/2018</td>\n",
       "      <td>12/20/2018</td>\n",
       "      <td>12/21/2018</td>\n",
       "      <td>NaN</td>\n",
       "      <td>NaN</td>\n",
       "      <td>12/20/2018</td>\n",
       "    </tr>\n",
       "    <tr>\n",
       "      <th>2</th>\n",
       "      <td>BX</td>\n",
       "      <td>4205.0</td>\n",
       "      <td>41.0</td>\n",
       "      <td>211.0</td>\n",
       "      <td>296.0</td>\n",
       "      <td>2000.0</td>\n",
       "      <td>11.0</td>\n",
       "      <td>13.0</td>\n",
       "      <td>NaN</td>\n",
       "      <td>Q061</td>\n",
       "      <td>...</td>\n",
       "      <td>NaN</td>\n",
       "      <td>NaN</td>\n",
       "      <td>12/6/2018</td>\n",
       "      <td>12/20/2018</td>\n",
       "      <td>12/21/2018</td>\n",
       "      <td>12/20/2018</td>\n",
       "      <td>12/21/2018</td>\n",
       "      <td>NaN</td>\n",
       "      <td>NaN</td>\n",
       "      <td>12/20/2018</td>\n",
       "    </tr>\n",
       "    <tr>\n",
       "      <th>3</th>\n",
       "      <td>BX</td>\n",
       "      <td>2402.0</td>\n",
       "      <td>14.0</td>\n",
       "      <td>201.0</td>\n",
       "      <td>69.0</td>\n",
       "      <td>2005.0</td>\n",
       "      <td>7.0</td>\n",
       "      <td>17.0</td>\n",
       "      <td>NaN</td>\n",
       "      <td>L055</td>\n",
       "      <td>...</td>\n",
       "      <td>NaN</td>\n",
       "      <td>NaN</td>\n",
       "      <td>12/6/2018</td>\n",
       "      <td>12/20/2018</td>\n",
       "      <td>12/21/2018</td>\n",
       "      <td>12/20/2018</td>\n",
       "      <td>12/21/2018</td>\n",
       "      <td>NaN</td>\n",
       "      <td>NaN</td>\n",
       "      <td>12/20/2018</td>\n",
       "    </tr>\n",
       "    <tr>\n",
       "      <th>4</th>\n",
       "      <td>SI</td>\n",
       "      <td>63.0</td>\n",
       "      <td>83.0</td>\n",
       "      <td>501.0</td>\n",
       "      <td>81.0</td>\n",
       "      <td>2006.0</td>\n",
       "      <td>31.0</td>\n",
       "      <td>49.0</td>\n",
       "      <td>10301.0</td>\n",
       "      <td>E155</td>\n",
       "      <td>...</td>\n",
       "      <td>NaN</td>\n",
       "      <td>NaN</td>\n",
       "      <td>12/6/2018</td>\n",
       "      <td>12/20/2018</td>\n",
       "      <td>12/21/2018</td>\n",
       "      <td>12/20/2018</td>\n",
       "      <td>12/21/2018</td>\n",
       "      <td>NaN</td>\n",
       "      <td>NaN</td>\n",
       "      <td>12/20/2018</td>\n",
       "    </tr>\n",
       "  </tbody>\n",
       "</table>\n",
       "<p>5 rows × 96 columns</p>\n",
       "</div>"
      ],
      "text/plain": [
       "  borough   block    lot     cd  ct2010  cb2010  schooldist  council  zipcode  \\\n",
       "0      BX  5641.0  670.0  210.0   516.0     2.0         NaN     13.0      NaN   \n",
       "1      QN  3935.0    3.0  407.0   929.0  1001.0        25.0     19.0  11356.0   \n",
       "2      BX  4205.0   41.0  211.0   296.0  2000.0        11.0     13.0      NaN   \n",
       "3      BX  2402.0   14.0  201.0    69.0  2005.0         7.0     17.0      NaN   \n",
       "4      SI    63.0   83.0  501.0    81.0  2006.0        31.0     49.0  10301.0   \n",
       "\n",
       "  firecomp  ...  firm07_flag  pfirm15_flag   rpaddate    dcasdate  zoningdate  \\\n",
       "0      NaN  ...          1.0           1.0  12/6/2018  12/20/2018  12/21/2018   \n",
       "1     E297  ...          NaN           NaN  12/6/2018  12/20/2018  12/21/2018   \n",
       "2     Q061  ...          NaN           NaN  12/6/2018  12/20/2018  12/21/2018   \n",
       "3     L055  ...          NaN           NaN  12/6/2018  12/20/2018  12/21/2018   \n",
       "4     E155  ...          NaN           NaN  12/6/2018  12/20/2018  12/21/2018   \n",
       "\n",
       "   landmkdate  basempdate masdate polidate  edesigdate  \n",
       "0  12/20/2018  12/21/2018     NaN      NaN  12/20/2018  \n",
       "1  12/20/2018  12/21/2018     NaN      NaN  12/20/2018  \n",
       "2  12/20/2018  12/21/2018     NaN      NaN  12/20/2018  \n",
       "3  12/20/2018  12/21/2018     NaN      NaN  12/20/2018  \n",
       "4  12/20/2018  12/21/2018     NaN      NaN  12/20/2018  \n",
       "\n",
       "[5 rows x 96 columns]"
      ]
     },
     "execution_count": 4,
     "metadata": {},
     "output_type": "execute_result"
    }
   ],
   "source": [
    "#initial look at the data\n",
    "df.head()"
   ]
  },
  {
   "cell_type": "code",
   "execution_count": 5,
   "metadata": {},
   "outputs": [],
   "source": [
    "#dropping all rows that don't have a zipcode\n",
    "df.dropna(axis = 0, subset = ['zipcode'], inplace = True)"
   ]
  },
  {
   "cell_type": "code",
   "execution_count": 6,
   "metadata": {},
   "outputs": [
    {
     "data": {
      "text/plain": [
       "(838441, 96)"
      ]
     },
     "execution_count": 6,
     "metadata": {},
     "output_type": "execute_result"
    }
   ],
   "source": [
    "df.shape"
   ]
  },
  {
   "cell_type": "code",
   "execution_count": 7,
   "metadata": {},
   "outputs": [],
   "source": [
    "#turning zipcode values to a string\n",
    "df['zipcode'] = df['zipcode'].astype('str')"
   ]
  },
  {
   "cell_type": "code",
   "execution_count": 8,
   "metadata": {},
   "outputs": [],
   "source": [
    "#removing the decimal. Zip code should only be 5 digits\n",
    "df['zipcode'] = df['zipcode'].map(lambda x: x.split('.')[0])"
   ]
  },
  {
   "cell_type": "code",
   "execution_count": 9,
   "metadata": {},
   "outputs": [],
   "source": [
    "# List of zip codes in Manhattan and Brooklyn\n",
    "zip_list = [11212, 11213, 11216, 11233, 11238, 11209, 11214, 11228,11204, 11218, 11219, 11230, 11234, 11236, 11239,\n",
    "           11223, 11224, 11229, 11235, 11201, 11205, 11215, 11217, 11231, 11203, 11210, 11225, 11226, 11207, 11208,\n",
    "           11211, 11222, 11220, 11232, 11206, 11221, 11237, 10026, 10027, 10030, 10037, 10039, 10001, 10011, 10018, \n",
    "           10019, 10020, 10036, 10029, 10035, 10010, 10016, 10017, 10022, 10012, 10013, 10014, 10004, 10005, 10006, \n",
    "           10007, 10038, 10280, 10002, 10003, 10009, 10021, 10028, 10044, 10065, 10075, 10128, 10023, 10024, 10025,\n",
    "           10031, 10032, 10033, 10034, 10040]\n",
    "\n",
    "#turning zip codes to a string so in same format as the data\n",
    "zip_list = [str(i) for i in zip_list]"
   ]
  },
  {
   "cell_type": "code",
   "execution_count": 10,
   "metadata": {},
   "outputs": [],
   "source": [
    "#removed all zip codes from dataframe that aren't in Manhattan and Brooklyn\n",
    "df = df[df['zipcode'].isin(zip_list)]"
   ]
  },
  {
   "cell_type": "code",
   "execution_count": 11,
   "metadata": {},
   "outputs": [
    {
     "data": {
      "text/html": [
       "<div>\n",
       "<style scoped>\n",
       "    .dataframe tbody tr th:only-of-type {\n",
       "        vertical-align: middle;\n",
       "    }\n",
       "\n",
       "    .dataframe tbody tr th {\n",
       "        vertical-align: top;\n",
       "    }\n",
       "\n",
       "    .dataframe thead th {\n",
       "        text-align: right;\n",
       "    }\n",
       "</style>\n",
       "<table border=\"1\" class=\"dataframe\">\n",
       "  <thead>\n",
       "    <tr style=\"text-align: right;\">\n",
       "      <th></th>\n",
       "      <th>borough</th>\n",
       "      <th>block</th>\n",
       "      <th>lot</th>\n",
       "      <th>cd</th>\n",
       "      <th>ct2010</th>\n",
       "      <th>cb2010</th>\n",
       "      <th>schooldist</th>\n",
       "      <th>council</th>\n",
       "      <th>zipcode</th>\n",
       "      <th>firecomp</th>\n",
       "      <th>...</th>\n",
       "      <th>firm07_flag</th>\n",
       "      <th>pfirm15_flag</th>\n",
       "      <th>rpaddate</th>\n",
       "      <th>dcasdate</th>\n",
       "      <th>zoningdate</th>\n",
       "      <th>landmkdate</th>\n",
       "      <th>basempdate</th>\n",
       "      <th>masdate</th>\n",
       "      <th>polidate</th>\n",
       "      <th>edesigdate</th>\n",
       "    </tr>\n",
       "  </thead>\n",
       "  <tbody>\n",
       "    <tr>\n",
       "      <th>7</th>\n",
       "      <td>MN</td>\n",
       "      <td>707.0</td>\n",
       "      <td>45.0</td>\n",
       "      <td>104.0</td>\n",
       "      <td>99.0</td>\n",
       "      <td>1039.0</td>\n",
       "      <td>2.0</td>\n",
       "      <td>3.0</td>\n",
       "      <td>10018</td>\n",
       "      <td>E034</td>\n",
       "      <td>...</td>\n",
       "      <td>NaN</td>\n",
       "      <td>NaN</td>\n",
       "      <td>12/6/2018</td>\n",
       "      <td>12/20/2018</td>\n",
       "      <td>12/21/2018</td>\n",
       "      <td>12/20/2018</td>\n",
       "      <td>12/21/2018</td>\n",
       "      <td>NaN</td>\n",
       "      <td>NaN</td>\n",
       "      <td>12/20/2018</td>\n",
       "    </tr>\n",
       "    <tr>\n",
       "      <th>8</th>\n",
       "      <td>BK</td>\n",
       "      <td>7118.0</td>\n",
       "      <td>37.0</td>\n",
       "      <td>315.0</td>\n",
       "      <td>398.0</td>\n",
       "      <td>2003.0</td>\n",
       "      <td>21.0</td>\n",
       "      <td>47.0</td>\n",
       "      <td>11223</td>\n",
       "      <td>L161</td>\n",
       "      <td>...</td>\n",
       "      <td>NaN</td>\n",
       "      <td>NaN</td>\n",
       "      <td>12/6/2018</td>\n",
       "      <td>12/20/2018</td>\n",
       "      <td>12/21/2018</td>\n",
       "      <td>12/20/2018</td>\n",
       "      <td>12/21/2018</td>\n",
       "      <td>NaN</td>\n",
       "      <td>NaN</td>\n",
       "      <td>12/20/2018</td>\n",
       "    </tr>\n",
       "    <tr>\n",
       "      <th>11</th>\n",
       "      <td>BK</td>\n",
       "      <td>7993.0</td>\n",
       "      <td>5.0</td>\n",
       "      <td>318.0</td>\n",
       "      <td>964.0</td>\n",
       "      <td>1007.0</td>\n",
       "      <td>18.0</td>\n",
       "      <td>46.0</td>\n",
       "      <td>11236</td>\n",
       "      <td>L170</td>\n",
       "      <td>...</td>\n",
       "      <td>NaN</td>\n",
       "      <td>NaN</td>\n",
       "      <td>12/6/2018</td>\n",
       "      <td>12/20/2018</td>\n",
       "      <td>12/21/2018</td>\n",
       "      <td>12/20/2018</td>\n",
       "      <td>12/21/2018</td>\n",
       "      <td>NaN</td>\n",
       "      <td>NaN</td>\n",
       "      <td>12/20/2018</td>\n",
       "    </tr>\n",
       "    <tr>\n",
       "      <th>12</th>\n",
       "      <td>MN</td>\n",
       "      <td>1486.0</td>\n",
       "      <td>4.0</td>\n",
       "      <td>108.0</td>\n",
       "      <td>132.0</td>\n",
       "      <td>7002.0</td>\n",
       "      <td>2.0</td>\n",
       "      <td>5.0</td>\n",
       "      <td>10021</td>\n",
       "      <td>E044</td>\n",
       "      <td>...</td>\n",
       "      <td>NaN</td>\n",
       "      <td>NaN</td>\n",
       "      <td>12/6/2018</td>\n",
       "      <td>12/20/2018</td>\n",
       "      <td>12/21/2018</td>\n",
       "      <td>12/20/2018</td>\n",
       "      <td>12/21/2018</td>\n",
       "      <td>NaN</td>\n",
       "      <td>NaN</td>\n",
       "      <td>12/20/2018</td>\n",
       "    </tr>\n",
       "    <tr>\n",
       "      <th>15</th>\n",
       "      <td>BK</td>\n",
       "      <td>7712.0</td>\n",
       "      <td>55.0</td>\n",
       "      <td>318.0</td>\n",
       "      <td>640.0</td>\n",
       "      <td>2000.0</td>\n",
       "      <td>22.0</td>\n",
       "      <td>46.0</td>\n",
       "      <td>11234</td>\n",
       "      <td>E309</td>\n",
       "      <td>...</td>\n",
       "      <td>NaN</td>\n",
       "      <td>NaN</td>\n",
       "      <td>12/6/2018</td>\n",
       "      <td>12/20/2018</td>\n",
       "      <td>12/21/2018</td>\n",
       "      <td>12/20/2018</td>\n",
       "      <td>12/21/2018</td>\n",
       "      <td>NaN</td>\n",
       "      <td>NaN</td>\n",
       "      <td>12/20/2018</td>\n",
       "    </tr>\n",
       "  </tbody>\n",
       "</table>\n",
       "<p>5 rows × 96 columns</p>\n",
       "</div>"
      ],
      "text/plain": [
       "   borough   block   lot     cd  ct2010  cb2010  schooldist  council zipcode  \\\n",
       "7       MN   707.0  45.0  104.0    99.0  1039.0         2.0      3.0   10018   \n",
       "8       BK  7118.0  37.0  315.0   398.0  2003.0        21.0     47.0   11223   \n",
       "11      BK  7993.0   5.0  318.0   964.0  1007.0        18.0     46.0   11236   \n",
       "12      MN  1486.0   4.0  108.0   132.0  7002.0         2.0      5.0   10021   \n",
       "15      BK  7712.0  55.0  318.0   640.0  2000.0        22.0     46.0   11234   \n",
       "\n",
       "   firecomp  ...  firm07_flag  pfirm15_flag   rpaddate    dcasdate  \\\n",
       "7      E034  ...          NaN           NaN  12/6/2018  12/20/2018   \n",
       "8      L161  ...          NaN           NaN  12/6/2018  12/20/2018   \n",
       "11     L170  ...          NaN           NaN  12/6/2018  12/20/2018   \n",
       "12     E044  ...          NaN           NaN  12/6/2018  12/20/2018   \n",
       "15     E309  ...          NaN           NaN  12/6/2018  12/20/2018   \n",
       "\n",
       "    zoningdate  landmkdate  basempdate masdate polidate  edesigdate  \n",
       "7   12/21/2018  12/20/2018  12/21/2018     NaN      NaN  12/20/2018  \n",
       "8   12/21/2018  12/20/2018  12/21/2018     NaN      NaN  12/20/2018  \n",
       "11  12/21/2018  12/20/2018  12/21/2018     NaN      NaN  12/20/2018  \n",
       "12  12/21/2018  12/20/2018  12/21/2018     NaN      NaN  12/20/2018  \n",
       "15  12/21/2018  12/20/2018  12/21/2018     NaN      NaN  12/20/2018  \n",
       "\n",
       "[5 rows x 96 columns]"
      ]
     },
     "execution_count": 11,
     "metadata": {},
     "output_type": "execute_result"
    }
   ],
   "source": [
    "#Checking results\n",
    "df.head()"
   ]
  },
  {
   "cell_type": "code",
   "execution_count": 12,
   "metadata": {},
   "outputs": [],
   "source": [
    "#creating dataframe of just the zip codes and addresses.\n",
    "zip_df = df[['zipcode', 'address']]"
   ]
  },
  {
   "cell_type": "code",
   "execution_count": 13,
   "metadata": {},
   "outputs": [
    {
     "data": {
      "text/html": [
       "<div>\n",
       "<style scoped>\n",
       "    .dataframe tbody tr th:only-of-type {\n",
       "        vertical-align: middle;\n",
       "    }\n",
       "\n",
       "    .dataframe tbody tr th {\n",
       "        vertical-align: top;\n",
       "    }\n",
       "\n",
       "    .dataframe thead th {\n",
       "        text-align: right;\n",
       "    }\n",
       "</style>\n",
       "<table border=\"1\" class=\"dataframe\">\n",
       "  <thead>\n",
       "    <tr style=\"text-align: right;\">\n",
       "      <th></th>\n",
       "      <th>zipcode</th>\n",
       "      <th>address</th>\n",
       "    </tr>\n",
       "  </thead>\n",
       "  <tbody>\n",
       "    <tr>\n",
       "      <th>7</th>\n",
       "      <td>10018</td>\n",
       "      <td>512 WEST 36 STREET</td>\n",
       "    </tr>\n",
       "    <tr>\n",
       "      <th>8</th>\n",
       "      <td>11223</td>\n",
       "      <td>2168 WEST 8 STREET</td>\n",
       "    </tr>\n",
       "    <tr>\n",
       "      <th>11</th>\n",
       "      <td>11236</td>\n",
       "      <td>8813 GLENWOOD ROAD</td>\n",
       "    </tr>\n",
       "    <tr>\n",
       "      <th>12</th>\n",
       "      <td>10021</td>\n",
       "      <td>1402 YORK AVENUE</td>\n",
       "    </tr>\n",
       "    <tr>\n",
       "      <th>15</th>\n",
       "      <td>11234</td>\n",
       "      <td>1772 MARINE PARKWAY</td>\n",
       "    </tr>\n",
       "  </tbody>\n",
       "</table>\n",
       "</div>"
      ],
      "text/plain": [
       "   zipcode              address\n",
       "7    10018   512 WEST 36 STREET\n",
       "8    11223   2168 WEST 8 STREET\n",
       "11   11236   8813 GLENWOOD ROAD\n",
       "12   10021     1402 YORK AVENUE\n",
       "15   11234  1772 MARINE PARKWAY"
      ]
     },
     "execution_count": 13,
     "metadata": {},
     "output_type": "execute_result"
    }
   ],
   "source": [
    "#initial look\n",
    "zip_df.head()"
   ]
  },
  {
   "cell_type": "code",
   "execution_count": 14,
   "metadata": {},
   "outputs": [
    {
     "data": {
      "text/plain": [
       "zipcode    0\n",
       "address    2\n",
       "dtype: int64"
      ]
     },
     "execution_count": 14,
     "metadata": {},
     "output_type": "execute_result"
    }
   ],
   "source": [
    "#Looking for missing values\n",
    "zip_df.isnull().sum()"
   ]
  },
  {
   "cell_type": "code",
   "execution_count": 15,
   "metadata": {},
   "outputs": [
    {
     "data": {
      "text/plain": [
       "(315178, 2)"
      ]
     },
     "execution_count": 15,
     "metadata": {},
     "output_type": "execute_result"
    }
   ],
   "source": [
    "zip_df.shape"
   ]
  },
  {
   "cell_type": "code",
   "execution_count": 16,
   "metadata": {},
   "outputs": [
    {
     "name": "stderr",
     "output_type": "stream",
     "text": [
      "/anaconda3/envs/dsi/lib/python3.7/site-packages/ipykernel_launcher.py:2: SettingWithCopyWarning: \n",
      "A value is trying to be set on a copy of a slice from a DataFrame\n",
      "\n",
      "See the caveats in the documentation: http://pandas.pydata.org/pandas-docs/stable/indexing.html#indexing-view-versus-copy\n",
      "  \n"
     ]
    }
   ],
   "source": [
    "#dropping missing values\n",
    "zip_df.dropna(inplace = True)"
   ]
  },
  {
   "cell_type": "code",
   "execution_count": 17,
   "metadata": {},
   "outputs": [],
   "source": [
    "#creating dictionary. Zip codes are keys, values are list of addresses\n",
    "zip_dict = zip_df.groupby('zipcode')['address'].apply(lambda g: g.values.tolist()).to_dict()"
   ]
  },
  {
   "cell_type": "code",
   "execution_count": 18,
   "metadata": {},
   "outputs": [],
   "source": [
    "#creating a csv of the data\n",
    "zip_df.to_csv('plutodata.csv', index = False)"
   ]
  },
  {
   "cell_type": "code",
   "execution_count": 19,
   "metadata": {},
   "outputs": [],
   "source": [
    "#bringing in second list of addresses cleaned in data-cleaning notebook\n",
    "zip_df2 = pd.read_csv('../data/manhattan_bk_addresses.csv')"
   ]
  },
  {
   "cell_type": "code",
   "execution_count": 20,
   "metadata": {
    "scrolled": true
   },
   "outputs": [
    {
     "data": {
      "text/html": [
       "<div>\n",
       "<style scoped>\n",
       "    .dataframe tbody tr th:only-of-type {\n",
       "        vertical-align: middle;\n",
       "    }\n",
       "\n",
       "    .dataframe tbody tr th {\n",
       "        vertical-align: top;\n",
       "    }\n",
       "\n",
       "    .dataframe thead th {\n",
       "        text-align: right;\n",
       "    }\n",
       "</style>\n",
       "<table border=\"1\" class=\"dataframe\">\n",
       "  <thead>\n",
       "    <tr style=\"text-align: right;\">\n",
       "      <th></th>\n",
       "      <th>Unnamed: 0</th>\n",
       "      <th>Long</th>\n",
       "      <th>Lat</th>\n",
       "      <th>Zipcode</th>\n",
       "      <th>Address</th>\n",
       "    </tr>\n",
       "  </thead>\n",
       "  <tbody>\n",
       "    <tr>\n",
       "      <th>0</th>\n",
       "      <td>0</td>\n",
       "      <td>-73.979408</td>\n",
       "      <td>40.756086</td>\n",
       "      <td>10036</td>\n",
       "      <td>560 5 AVE</td>\n",
       "    </tr>\n",
       "    <tr>\n",
       "      <th>1</th>\n",
       "      <td>1</td>\n",
       "      <td>-73.994266</td>\n",
       "      <td>40.701937</td>\n",
       "      <td>11201</td>\n",
       "      <td>25 COLUMBIA HTS</td>\n",
       "    </tr>\n",
       "    <tr>\n",
       "      <th>2</th>\n",
       "      <td>3</td>\n",
       "      <td>-73.986376</td>\n",
       "      <td>40.778571</td>\n",
       "      <td>10023</td>\n",
       "      <td>205 W  END AVE</td>\n",
       "    </tr>\n",
       "    <tr>\n",
       "      <th>3</th>\n",
       "      <td>12</td>\n",
       "      <td>-73.973395</td>\n",
       "      <td>40.797144</td>\n",
       "      <td>10025</td>\n",
       "      <td>260 RIVERSIDE DR</td>\n",
       "    </tr>\n",
       "    <tr>\n",
       "      <th>4</th>\n",
       "      <td>14</td>\n",
       "      <td>-73.950056</td>\n",
       "      <td>40.601985</td>\n",
       "      <td>11229</td>\n",
       "      <td>2123 AVE T</td>\n",
       "    </tr>\n",
       "  </tbody>\n",
       "</table>\n",
       "</div>"
      ],
      "text/plain": [
       "   Unnamed: 0       Long        Lat  Zipcode           Address\n",
       "0           0 -73.979408  40.756086    10036         560 5 AVE\n",
       "1           1 -73.994266  40.701937    11201   25 COLUMBIA HTS\n",
       "2           3 -73.986376  40.778571    10023    205 W  END AVE\n",
       "3          12 -73.973395  40.797144    10025  260 RIVERSIDE DR\n",
       "4          14 -73.950056  40.601985    11229        2123 AVE T"
      ]
     },
     "execution_count": 20,
     "metadata": {},
     "output_type": "execute_result"
    }
   ],
   "source": [
    "zip_df2.head()"
   ]
  },
  {
   "cell_type": "code",
   "execution_count": 21,
   "metadata": {},
   "outputs": [],
   "source": [
    "#renaming columns to be the same as the initial dataframe\n",
    "zip_df2.rename(columns = {'Zipcode': 'zipcode',\n",
    "               'Address': 'address'}, inplace = True)"
   ]
  },
  {
   "cell_type": "code",
   "execution_count": 22,
   "metadata": {
    "scrolled": true
   },
   "outputs": [],
   "source": [
    "#dropping unnamed colunmn\n",
    "zip_df2.drop(columns = 'Unnamed: 0', inplace = True)"
   ]
  },
  {
   "cell_type": "code",
   "execution_count": 23,
   "metadata": {},
   "outputs": [],
   "source": [
    "#concatenating the two dataframes together\n",
    "combined_df = pd.concat([zip_df, zip_df2], sort = True)"
   ]
  },
  {
   "cell_type": "code",
   "execution_count": 24,
   "metadata": {},
   "outputs": [
    {
     "data": {
      "text/html": [
       "<div>\n",
       "<style scoped>\n",
       "    .dataframe tbody tr th:only-of-type {\n",
       "        vertical-align: middle;\n",
       "    }\n",
       "\n",
       "    .dataframe tbody tr th {\n",
       "        vertical-align: top;\n",
       "    }\n",
       "\n",
       "    .dataframe thead th {\n",
       "        text-align: right;\n",
       "    }\n",
       "</style>\n",
       "<table border=\"1\" class=\"dataframe\">\n",
       "  <thead>\n",
       "    <tr style=\"text-align: right;\">\n",
       "      <th></th>\n",
       "      <th>Lat</th>\n",
       "      <th>Long</th>\n",
       "      <th>address</th>\n",
       "      <th>zipcode</th>\n",
       "    </tr>\n",
       "  </thead>\n",
       "  <tbody>\n",
       "    <tr>\n",
       "      <th>7</th>\n",
       "      <td>NaN</td>\n",
       "      <td>NaN</td>\n",
       "      <td>512 WEST 36 STREET</td>\n",
       "      <td>10018</td>\n",
       "    </tr>\n",
       "    <tr>\n",
       "      <th>8</th>\n",
       "      <td>NaN</td>\n",
       "      <td>NaN</td>\n",
       "      <td>2168 WEST 8 STREET</td>\n",
       "      <td>11223</td>\n",
       "    </tr>\n",
       "    <tr>\n",
       "      <th>11</th>\n",
       "      <td>NaN</td>\n",
       "      <td>NaN</td>\n",
       "      <td>8813 GLENWOOD ROAD</td>\n",
       "      <td>11236</td>\n",
       "    </tr>\n",
       "    <tr>\n",
       "      <th>12</th>\n",
       "      <td>NaN</td>\n",
       "      <td>NaN</td>\n",
       "      <td>1402 YORK AVENUE</td>\n",
       "      <td>10021</td>\n",
       "    </tr>\n",
       "    <tr>\n",
       "      <th>15</th>\n",
       "      <td>NaN</td>\n",
       "      <td>NaN</td>\n",
       "      <td>1772 MARINE PARKWAY</td>\n",
       "      <td>11234</td>\n",
       "    </tr>\n",
       "  </tbody>\n",
       "</table>\n",
       "</div>"
      ],
      "text/plain": [
       "    Lat  Long              address zipcode\n",
       "7   NaN   NaN   512 WEST 36 STREET   10018\n",
       "8   NaN   NaN   2168 WEST 8 STREET   11223\n",
       "11  NaN   NaN   8813 GLENWOOD ROAD   11236\n",
       "12  NaN   NaN     1402 YORK AVENUE   10021\n",
       "15  NaN   NaN  1772 MARINE PARKWAY   11234"
      ]
     },
     "execution_count": 24,
     "metadata": {},
     "output_type": "execute_result"
    }
   ],
   "source": [
    "combined_df.head()"
   ]
  },
  {
   "cell_type": "code",
   "execution_count": 25,
   "metadata": {},
   "outputs": [
    {
     "data": {
      "text/plain": [
       "(680916, 4)"
      ]
     },
     "execution_count": 25,
     "metadata": {},
     "output_type": "execute_result"
    }
   ],
   "source": [
    "combined_df.shape"
   ]
  },
  {
   "cell_type": "code",
   "execution_count": 26,
   "metadata": {},
   "outputs": [],
   "source": [
    "#removing white space within addresses\n",
    "combined_df['address'] = combined_df['address'].str.strip()"
   ]
  },
  {
   "cell_type": "code",
   "execution_count": 27,
   "metadata": {
    "scrolled": false
   },
   "outputs": [],
   "source": [
    "combined_df['address'] = combined_df['address'].str.replace('  ', ' ')"
   ]
  },
  {
   "cell_type": "code",
   "execution_count": 28,
   "metadata": {},
   "outputs": [],
   "source": [
    "#turning all zipcodes to strings\n",
    "combined_df['zipcode'] = combined_df['zipcode'].astype(str)"
   ]
  },
  {
   "cell_type": "code",
   "execution_count": 29,
   "metadata": {},
   "outputs": [],
   "source": [
    "#testing sample address\n",
    "address = '2168 WEST 8 STREET'\n",
    "zipcode = '11223'\n",
    "key = 'INSERT KEY'\n"
   ]
  },
  {
   "cell_type": "code",
   "execution_count": 30,
   "metadata": {},
   "outputs": [
    {
     "data": {
      "text/plain": [
       "'1103159'"
      ]
     },
     "execution_count": 30,
     "metadata": {},
     "output_type": "execute_result"
    }
   ],
   "source": [
    "#code to utilize pyzillow api. Result is zestimate of the property.\n",
    "zillow_data = ZillowWrapper(key)\n",
    "deep_search_response = zillow_data.get_deep_search_results(address,zipcode)\n",
    "result = GetDeepSearchResults(deep_search_response)\n",
    "result.zestimate_amount"
   ]
  },
  {
   "cell_type": "code",
   "execution_count": 31,
   "metadata": {},
   "outputs": [],
   "source": [
    "#creating dictionary of zipcodes. Values are list of addresses for each zip code.\n",
    "combined_dict = combined_df.groupby('zipcode')['address'].apply(lambda g: g.values.tolist()).to_dict()"
   ]
  },
  {
   "cell_type": "code",
   "execution_count": 34,
   "metadata": {},
   "outputs": [
    {
     "name": "stdout",
     "output_type": "stream",
     "text": [
      "10001: 2576\n",
      "10002: 4226\n",
      "10003: 4577\n",
      "10004: 476\n",
      "10005: 192\n",
      "10006: 194\n",
      "10007: 585\n",
      "10009: 3120\n",
      "10010: 1551\n",
      "10011: 4900\n",
      "10012: 3026\n",
      "10013: 4193\n",
      "10014: 4693\n",
      "10016: 3242\n",
      "10017: 1197\n",
      "10018: 1563\n",
      "10019: 2865\n",
      "10020: 63\n",
      "10021: 2958\n",
      "10022: 2638\n",
      "10023: 2951\n",
      "10024: 4049\n",
      "10025: 3955\n",
      "10026: 2419\n",
      "10027: 5007\n",
      "10028: 2899\n",
      "10029: 3563\n",
      "10030: 2501\n",
      "10031: 3701\n",
      "10032: 2504\n",
      "10033: 2157\n",
      "10034: 1499\n",
      "10035: 3191\n",
      "10036: 2419\n",
      "10037: 739\n",
      "10038: 950\n",
      "10039: 809\n",
      "10040: 1245\n",
      "10044: 115\n",
      "10065: 2815\n",
      "10075: 1513\n",
      "10128: 3023\n",
      "10280: 76\n",
      "11201: 7761\n",
      "11203: 23341\n",
      "11204: 20456\n",
      "11205: 6783\n",
      "11206: 10403\n",
      "11207: 23326\n",
      "11208: 23087\n",
      "11209: 18173\n",
      "11210: 18316\n",
      "11211: 11835\n",
      "11212: 13749\n",
      "11213: 10606\n",
      "11214: 20125\n",
      "11215: 18948\n",
      "11216: 12758\n",
      "11217: 8774\n",
      "11218: 14494\n",
      "11219: 18884\n",
      "11220: 18573\n",
      "11221: 18946\n",
      "11222: 11362\n",
      "11223: 21676\n",
      "11224: 5907\n",
      "11225: 8381\n",
      "11226: 11940\n",
      "11228: 16905\n",
      "11229: 25020\n",
      "11230: 17077\n",
      "11231: 10108\n",
      "11232: 6448\n",
      "11233: 16346\n",
      "11234: 40199\n",
      "11235: 16921\n",
      "11236: 30374\n",
      "11237: 9182\n",
      "11238: 9849\n",
      "11239: 948\n"
     ]
    }
   ],
   "source": [
    "# amount of addresses collected in our dictionary by zip code\n",
    "for i in combined_dict.keys():\n",
    "    print(f'{i}: {len(combined_dict[i])}')"
   ]
  },
  {
   "cell_type": "code",
   "execution_count": 32,
   "metadata": {},
   "outputs": [],
   "source": [
    "zipcode = search.by_zipcode('10006')"
   ]
  },
  {
   "cell_type": "code",
   "execution_count": 33,
   "metadata": {},
   "outputs": [
    {
     "data": {
      "text/plain": [
       "1991"
      ]
     },
     "execution_count": 33,
     "metadata": {},
     "output_type": "execute_result"
    }
   ],
   "source": [
    "zipcode.housing_units"
   ]
  },
  {
   "cell_type": "markdown",
   "metadata": {},
   "source": [
    "### Zillow Estimator Function"
   ]
  },
  {
   "cell_type": "markdown",
   "metadata": {},
   "source": [
    "The function below will provide the average home value for the specified zip code(s) and approximate the combined home values for all residential properties. Home values are provided from the Zillow API. The function will loop through the addresses identified for the specified zip code(s)."
   ]
  },
  {
   "cell_type": "code",
   "execution_count": 35,
   "metadata": {},
   "outputs": [],
   "source": [
    "def zip_value(zcodes, title = None):\n",
    "    #list to hold home values\n",
    "    zest = []\n",
    "    \n",
    "    #list of total units per zip code\n",
    "    total_units = []\n",
    "    \n",
    "    #loop to obtain home values and total units\n",
    "    for zcode in zcodes:\n",
    "        if str(zcode) in combined_dict:\n",
    "            for address in combined_dict[str(zcode)]:\n",
    "                # need error handling in case there are addresses that don't have estimates on zillow\n",
    "                try:\n",
    "                    zillow_data = ZillowWrapper(key)\n",
    "                    deep_search_response = zillow_data.get_deep_search_results(address,str(zcode))\n",
    "                    result = GetDeepSearchResults(deep_search_response)\n",
    "                    if result.zestimate_amount != None:\n",
    "                        zest.append(result.zestimate_amount)\n",
    "                    else:\n",
    "                        pass\n",
    "                except:\n",
    "                    pass\n",
    "                time.sleep(.5)\n",
    "            # utilizing USZIPCODE package to obtain housing units per zip code\n",
    "            zipcode = search.by_zipcode(zcode)\n",
    "            total_units.append(zipcode.housing_units)\n",
    "        else:\n",
    "            print(f'{zcode} Invalid . Please input zip code from Manhattan or Brooklyn.')\n",
    "    \n",
    "    # Summary Stats\n",
    "    zest = [int(i) for i in zest]\n",
    "    length = len(zest)\n",
    "    avg_value = round(np.mean(zest),2)\n",
    "    sum_units = np.sum(total_units)\n",
    "    total_value = avg_value * sum_units\n",
    "    min_value = np.min(zest)\n",
    "    max_value = np.max(zest)\n",
    "    median_value = np.median(zest)\n",
    "    \n",
    "    # Print statements\n",
    "    \n",
    "    print(f'Total Values Estimated for zip code(s){zcodes}: {length}')\n",
    "    print('')\n",
    "    print(f'Avg. Value for zip code(s){zcodes}: ${avg_value}')\n",
    "    print(f'Total units for zip code(s){zcodes}: {sum_units}')\n",
    "    print(f'Approximate Total Property Value for zip code(s){zcodes}: ${total_value}')\n",
    "    print('')\n",
    "    print(f'Max Property Value for zip code(s){zcodes}: ${max_value}')\n",
    "    print(f'Min Property Value for zip code(s){zcodes}: ${min_value}')\n",
    "    print(f'Median Property Value for zip code(s){zcodes}: ${median_value}')\n",
    "    \n",
    "    # Plotting histogram\n",
    "    plt.title(title, size = 16)\n",
    "    plt.hist(zest, edgecolor = 'black', bins = 20);\n",
    "    plt.xlabel('House Value', size = 14)\n",
    "    plt.ylabel('Frequency', size = 14)\n",
    "    plt.xticks(range(0, np.max(zest), 500000), rotation='vertical')\n",
    "    plt.ticklabel_format(useOffset=False)\n",
    "    \n",
    "    return\n",
    "    \n",
    "\n",
    "    "
   ]
  },
  {
   "cell_type": "code",
   "execution_count": 36,
   "metadata": {},
   "outputs": [
    {
     "name": "stdout",
     "output_type": "stream",
     "text": [
      "Total Values Estimated for zip code(s)[10004]: 149\n",
      "\n",
      "Avg. Value for zip code(s)[10004]: $1692253.26\n",
      "Total units for zip code(s)[10004]: 2197\n",
      "Approximate Total Property Value for zip code(s)[10004]: $3717880412.22\n",
      "\n",
      "Max Property Value for zip code(s)[10004]: $12942496\n",
      "Min Property Value for zip code(s)[10004]: $44973\n",
      "Median Property Value for zip code(s)[10004]: $849429.0\n"
     ]
    },
    {
     "data": {
      "image/png": "[encoded data removed]",
      "text/plain": [
       "<Figure size 432x288 with 1 Axes>"
      ]
     },
     "metadata": {
      "needs_background": "light"
     },
     "output_type": "display_data"
    }
   ],
   "source": [
    "#example of function in action for zip code 10004\n",
    "zip_value([10004], title = 10004)"
   ]
  },
  {
   "cell_type": "code",
   "execution_count": null,
   "metadata": {},
   "outputs": [],
   "source": []
  }
 ],
 "metadata": {
  "kernelspec": {
   "display_name": "Python [conda env:dsi] *",
   "language": "python",
   "name": "conda-env-dsi-py"
  },
  "language_info": {
   "codemirror_mode": {
    "name": "ipython",
    "version": 3
   },
   "file_extension": ".py",
   "mimetype": "text/x-python",
   "name": "python",
   "nbconvert_exporter": "python",
   "pygments_lexer": "ipython3",
   "version": "3.7.3"
  }
 },
 "nbformat": 4,
 "nbformat_minor": 2
}
