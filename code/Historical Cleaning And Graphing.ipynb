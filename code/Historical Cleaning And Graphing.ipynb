{
 "cells": [
  {
   "cell_type": "markdown",
   "metadata": {},
   "source": [
    "# Imports"
   ]
  },
  {
   "cell_type": "code",
   "execution_count": null,
   "metadata": {},
   "outputs": [],
   "source": [
    "import pandas             as pd\n",
    "import seaborn            as sns\n",
    "import matplotlib.pyplot  as plt\n",
    "from IPython.core.display import display, HTML\n",
    "sns.set(style = \"dark\", palette = \"dark\")\n",
    "display(HTML(\"<style>.container { width:95% !important; }</style>\"))"
   ]
  },
  {
   "cell_type": "markdown",
   "metadata": {},
   "source": [
    "# Data Source\n",
    "\n",
    "-----\n",
    "\n",
    "Because the data file is greater than GitHub's file size limit, the file cannot be included in the repository. [Here](https://www.realtor.com/research/data/) is a link to the file.  To access the data, go to \"All Residential\" under \"ZIP\" and download the file."
   ]
  },
  {
   "cell_type": "markdown",
   "metadata": {},
   "source": [
    "# Table Of Contents\n",
    "\n",
    "-----\n",
    "\n",
    "1. [Data Cleaning](#Data-Cleaning)\n",
    "    - [Reading In The Data](#Reading-In-The-Data)\n",
    "    - [Getting Values For New York](#Getting-Values-For-New-York)\n",
    "    - [Filtering For Manhattan And Brooklyn](#Filtering-For-Manhattan-And-Brooklyn)\n",
    "    - [Cleaning The NYC Data](#Cleaning-The-NYC-Data)\n",
    "    - [Creating A Cleaned Dataframe](#Creating-A-Cleaned-Dataframe)\n",
    "    \n",
    "-----\n",
    "\n",
    "2. [Visualizing The Data](#Visualizing-The-Data)\n",
    "\n",
    "    - [Reading In The Data](#Reading-In-The-Data)\n",
    "    - [Graphing Functions](#Graphing-Functions)\n",
    "    - [User Input Functions](#User-Input-Functions)\n",
    "    - [Running The Input Functions](#Running-The-Input-Functions)"
   ]
  },
  {
   "cell_type": "markdown",
   "metadata": {},
   "source": [
    "# Data Cleaning"
   ]
  },
  {
   "cell_type": "markdown",
   "metadata": {},
   "source": [
    "## Reading In The Data"
   ]
  },
  {
   "cell_type": "code",
   "execution_count": null,
   "metadata": {},
   "outputs": [],
   "source": [
    "historic = pd.read_csv(\"historic.csv\")"
   ]
  },
  {
   "cell_type": "code",
   "execution_count": null,
   "metadata": {},
   "outputs": [],
   "source": [
    "# Checking the dimensions of the data set\n",
    "\n",
    "historic.shape"
   ]
  },
  {
   "cell_type": "code",
   "execution_count": null,
   "metadata": {},
   "outputs": [],
   "source": [
    "# Checking the column titles\n",
    "\n",
    "historic.columns"
   ]
  },
  {
   "cell_type": "markdown",
   "metadata": {},
   "source": [
    "## Getting Values For New York"
   ]
  },
  {
   "cell_type": "code",
   "execution_count": null,
   "metadata": {},
   "outputs": [],
   "source": [
    "# Extracting city and state from the zipname column\n",
    " \n",
    "historic[[\"city\", \"state\"]] = historic[\"ZipName\"].str.split(\",\", n = 1, expand = True)"
   ]
  },
  {
   "cell_type": "code",
   "execution_count": null,
   "metadata": {},
   "outputs": [],
   "source": [
    "# Removing leading and trailing spaces\n",
    "\n",
    "historic['state'] = historic['state'].str.strip()"
   ]
  },
  {
   "cell_type": "code",
   "execution_count": null,
   "metadata": {},
   "outputs": [],
   "source": [
    "# Filtering For New York\n",
    "\n",
    "historic = historic[historic['state'] == 'NY']"
   ]
  },
  {
   "cell_type": "code",
   "execution_count": null,
   "metadata": {},
   "outputs": [],
   "source": [
    "# checking the shape to make sure the filter worked\n",
    "\n",
    "historic.shape"
   ]
  },
  {
   "cell_type": "code",
   "execution_count": null,
   "metadata": {},
   "outputs": [],
   "source": [
    "# Turning zipcodes into a string\n",
    "\n",
    "historic['ZipCode'] = historic['ZipCode'].astype('str')\n",
    "\n",
    "# Removing the decimal from the string\n",
    "\n",
    "historic['ZipCode'] = historic['ZipCode'].map(lambda x: x.split('.')[0])"
   ]
  },
  {
   "cell_type": "markdown",
   "metadata": {},
   "source": [
    "### Filtering For Manhattan And Brooklyn"
   ]
  },
  {
   "cell_type": "code",
   "execution_count": null,
   "metadata": {},
   "outputs": [],
   "source": [
    "# List of zip codes in Manhattan and Brooklyn\n",
    "\n",
    "zip_list = [11212, 11213, 11216, \n",
    "            11233, 11238, 11209, \n",
    "            11214, 11228, 11204, \n",
    "            11218, 11219, 11230, \n",
    "            11234, 11236, 11239, \n",
    "            11223, 11224, 11229, \n",
    "            11235, 11201, 11205, \n",
    "            11215, 11217, 11231, \n",
    "            11203, 11210, 11225, \n",
    "            11226, 11207, 11208, \n",
    "            11211, 11222, 11220, \n",
    "            11232, 11206, 11221, \n",
    "            11237, 10026, 10027, \n",
    "            10030, 10037, 10039, \n",
    "            10001, 10011, 10018, \n",
    "            10019, 10020, 10036, \n",
    "            10029, 10035, 10010, \n",
    "            10016, 10017, 10022, \n",
    "            10012, 10013, 10014, \n",
    "            10004, 10005, 10006, \n",
    "            10007, 10038, 10280, \n",
    "            10002, 10003, 10009, \n",
    "            10021, 10028, 10044, \n",
    "            10065, 10075, 10128, \n",
    "            10023, 10024, 10025, \n",
    "            10031, 10032, 10033, \n",
    "            10034, 10040]\n",
    "\n",
    "zip_list = [str(i) for i in zip_list]"
   ]
  },
  {
   "cell_type": "code",
   "execution_count": null,
   "metadata": {},
   "outputs": [],
   "source": [
    "# Selecting ZIP codes in Manhattan And Brooklyn\n",
    "\n",
    "historic = historic[historic[\"ZipCode\"].isin(zip_list)]"
   ]
  },
  {
   "cell_type": "code",
   "execution_count": null,
   "metadata": {},
   "outputs": [],
   "source": [
    "# Checking the shape to make sure the filter worked\n",
    "\n",
    "historic.shape"
   ]
  },
  {
   "cell_type": "code",
   "execution_count": null,
   "metadata": {},
   "outputs": [],
   "source": [
    "# Checking the list to see which ZIPs were not in the df\n",
    "\n",
    "missing_zips = set(zip_list) - set(historic[\"ZipCode\"])\n",
    "\n",
    "print(f\"The historic data is missing {len(missing_zips)} zip codes.\")\n",
    "print(set(zip_list) - set(historic[\"ZipCode\"]))"
   ]
  },
  {
   "cell_type": "markdown",
   "metadata": {},
   "source": [
    "[Top](#Table-Of-Contents)"
   ]
  },
  {
   "cell_type": "markdown",
   "metadata": {},
   "source": [
    "## Cleaning The NYC Data"
   ]
  },
  {
   "cell_type": "code",
   "execution_count": null,
   "metadata": {},
   "outputs": [],
   "source": [
    "# Renaming the date column\n",
    "\n",
    "historic = historic.rename({\"Month\": \"Date\"}, axis = 1);"
   ]
  },
  {
   "cell_type": "code",
   "execution_count": null,
   "metadata": {},
   "outputs": [],
   "source": [
    "# Removing spaces and replacing them with an underscore\n",
    "# Making all titles lowercase\n",
    "\n",
    "historic.columns = historic.columns.str.replace(\" \", \"_\")\n",
    "historic.columns = historic.columns.str.lower()"
   ]
  },
  {
   "cell_type": "code",
   "execution_count": null,
   "metadata": {},
   "outputs": [],
   "source": [
    "# Checking to make sure my changes stuck\n",
    "\n",
    "historic.columns"
   ]
  },
  {
   "cell_type": "code",
   "execution_count": null,
   "metadata": {},
   "outputs": [],
   "source": [
    "# Turning the `date` column into a datetime object\n",
    "# Extracting the month and year from the `date` column\n",
    "\n",
    "historic[\"date\"]  = pd.to_datetime(historic[\"date\"])\n",
    "historic[\"month\"] = historic[\"date\"].dt.month\n",
    "historic[\"year\"]  = historic[\"date\"].dt.year"
   ]
  },
  {
   "cell_type": "code",
   "execution_count": null,
   "metadata": {},
   "outputs": [],
   "source": [
    "# Making sure the columns were added\n",
    "\n",
    "historic.head()"
   ]
  },
  {
   "cell_type": "code",
   "execution_count": null,
   "metadata": {},
   "outputs": [],
   "source": [
    "# Selecting which columns we actually want to keep\n",
    "\n",
    "columns_keep = ['month', 'year', 'zipcode',\n",
    "                'median_listing_price', \n",
    "                'avg_listing_price', 'city', \n",
    "                'state']\n",
    "\n",
    "# Redefining the dataframe to only be the columns we want\n",
    "\n",
    "historic = historic.loc[:, columns_keep]"
   ]
  },
  {
   "cell_type": "code",
   "execution_count": null,
   "metadata": {},
   "outputs": [],
   "source": [
    "# Making sure the changes stuck\n",
    "\n",
    "historic.head()"
   ]
  },
  {
   "cell_type": "code",
   "execution_count": null,
   "metadata": {},
   "outputs": [],
   "source": [
    "# Defining neighborhoods based on zipcodes in the data\n",
    "\n",
    "neighborhoods = {\n",
    "    10026: \"central_harlem\", 10027: \"central_harlem\", \n",
    "    10029: \"east_harlem\", 10001: \"chelsea_clinton\", \n",
    "    10011: \"chelsea_clinton\", 10018: \"chelsea_clinton\", \n",
    "    10019: \"chelsea_clinton\", 10036: \"chelsea_clinton\",\n",
    "    10010: \"grammercy_murray_hill\", 10016: \"grammercy_murray_hill\", \n",
    "    10017: \"grammercy_murray_hill\", 10022: \"grammercy_murray_hill\",\n",
    "    10012: \"greenwich_soho\", 10013: \"greenwich_soho\", \n",
    "    10014: \"greenwich_soho\", 10005: \"lower_manhattan\", \n",
    "    10006: \"lower_manhattan\", 10007: \"lower_manhattan\", \n",
    "    10038: \"lower_manhattan\", 10280: \"lower_manhattan\",\n",
    "    10002: \"lower_east_side\", 10003: \"lower_east_side\", \n",
    "    10009: \"lower_east_side\", 10021: \"upper_east_side\", \n",
    "    10028: \"upper_east_side\", 10065: \"upper_east_side\", \n",
    "    10075: \"upper_east_side\", 10128: \"upper_east_side\", \n",
    "    10023: \"upper_west_side\", 10024: \"upper_west_side\", \n",
    "    10025: \"upper_west_side\",10031: \"innwood_washington_heights\", \n",
    "    10032: \"innwood_washington_heights\", 10033: \"innwood_washington_heights\", \n",
    "    11212: \"central_brooklyn\", 11216: \"central_brooklyn\",\n",
    "    11233: \"central_brooklyn\", 11238: \"central_brooklyn\", \n",
    "    11209: \"southwest_brooklyn\", 11214: \"southwest_brooklyn\", \n",
    "    11228: \"southwest_brooklyn\", 11204: \"borough_park\", \n",
    "    11218: \"borough_park\", 11230: \"borough_park\", \n",
    "    11234: \"canarsie_flatlands\", 11236: \"canarsie_flatlands\",\n",
    "    11223: \"southern_brooklyn\", 11224: \"southern_brooklyn\", \n",
    "    11229: \"southern_brooklyn\",  11235: \"southern_brooklyn\", \n",
    "    11201: \"northwest_brooklyn\", 11205: \"northwest_brooklyn\", \n",
    "    11215: \"northwest_brooklyn\", 11217: \"northwest_brooklyn\", \n",
    "    11231: \"northwest_brooklyn\", 11203: \"flatbush\",\n",
    "    11210: \"flatbush\", 11225: \"flatbush\", \n",
    "    11226: \"flatbush\", 11207: \"east_new_york_new_lots\", \n",
    "    11208: \"east_new_york_new_lots\", 11211: \"greenpoint\", \n",
    "    11222: \"greenpoint\", 11220: \"sunset_park\", \n",
    "    11221: \"bushwick_williamsburg\"\n",
    "}"
   ]
  },
  {
   "cell_type": "code",
   "execution_count": null,
   "metadata": {},
   "outputs": [],
   "source": [
    "# Casting the zipcode column to be integers\n",
    "\n",
    "historic[\"zipcode\"]  = historic[\"zipcode\"].astype(int)"
   ]
  },
  {
   "cell_type": "code",
   "execution_count": null,
   "metadata": {},
   "outputs": [],
   "source": [
    "# Creating a neighborhood column based off of the zipcode\n",
    "\n",
    "historic[\"neighborhood\"] = historic[\"zipcode\"].map(neighborhoods)"
   ]
  },
  {
   "cell_type": "code",
   "execution_count": null,
   "metadata": {},
   "outputs": [],
   "source": [
    "# Making sure the map worked\n",
    "\n",
    "historic[\"neighborhood\"].value_counts()"
   ]
  },
  {
   "cell_type": "code",
   "execution_count": null,
   "metadata": {},
   "outputs": [],
   "source": [
    "# Renaming the city `New York` to `Manhattan`\n",
    "\n",
    "historic[\"city\"] = historic[\"city\"].apply(lambda x: \"Manhattan\" if x == \"New York\" else \"Brooklyn\")"
   ]
  },
  {
   "cell_type": "code",
   "execution_count": null,
   "metadata": {},
   "outputs": [],
   "source": [
    "# Making sure the map worked\n",
    "\n",
    "historic[\"city\"].value_counts()"
   ]
  },
  {
   "cell_type": "markdown",
   "metadata": {},
   "source": [
    "## Creating A Cleaned Dataframe"
   ]
  },
  {
   "cell_type": "code",
   "execution_count": null,
   "metadata": {},
   "outputs": [],
   "source": [
    "# Saving the historic.csv to a new .csv with the changes\n",
    "\n",
    "historic.to_csv(\"cleaned_historic.csv\")"
   ]
  },
  {
   "cell_type": "markdown",
   "metadata": {},
   "source": [
    "[Top](#Table-Of-Contents)"
   ]
  },
  {
   "cell_type": "markdown",
   "metadata": {},
   "source": [
    "# Visualizing The Data"
   ]
  },
  {
   "cell_type": "markdown",
   "metadata": {},
   "source": [
    "## Reading In The Data"
   ]
  },
  {
   "cell_type": "code",
   "execution_count": null,
   "metadata": {},
   "outputs": [],
   "source": [
    "# Reading in the new .csv\n",
    "# Dropping the first column\n",
    "\n",
    "clean = pd.read_csv(\"cleaned_historic.csv\")\n",
    "clean = clean.drop(\"Unnamed: 0\", axis = 1)"
   ]
  },
  {
   "cell_type": "code",
   "execution_count": null,
   "metadata": {},
   "outputs": [],
   "source": [
    "# Checking the dimensions\n",
    "\n",
    "clean.shape"
   ]
  },
  {
   "cell_type": "code",
   "execution_count": null,
   "metadata": {},
   "outputs": [],
   "source": [
    "# Looking at the first five rows\n",
    "\n",
    "clean.head()"
   ]
  },
  {
   "cell_type": "markdown",
   "metadata": {},
   "source": [
    "## Graphing Functions"
   ]
  },
  {
   "cell_type": "markdown",
   "metadata": {},
   "source": [
    "In the next cell there are the three functions used in the `input` functions.\n",
    "\n",
    "* `borough_trends` plots a line graph of the median and average listing prices in Manhattan or Brooklyn.\n",
    "    - `city` is Manhattan or Brooklyn\n",
    "    - `time` is monthly or annual\n",
    "    \n",
    "* `neighborhood_trends` plots a bar graph of the median and average listing prices for a given neighborhood (defined by zip code).\n",
    "    - `city` is Manhattan or Brooklyn\n",
    "    - `neighborhood` is the name of the neighborhood\n",
    "    - `time` is monthly or annual\n",
    "    \n",
    "* `single_city` plots a bar graph of the median and average listing prices for Manhattan or Brooklyn by each neighborhood.\n",
    "    - `city` is Manhattan or Brooklyn\n",
    "    \n",
    "* `single_zip` plots a simple bar graph of a single zip codes median and average listing prices.\n",
    "    - `zipcode` is the zipcode as entered by the user.\n",
    "    \n",
    "-----\n",
    "\n",
    "There are also three lists used to make sure input is correct:\n",
    "\n",
    "* `cities` is a list of the unique cities, i.e. Brooklyn and Manhattan.\n",
    "\n",
    "* `neighborhoods` is a list of the unique neighborhoods.\n",
    "\n",
    "* `zipcodes` is a list of the unique zipcode"
   ]
  },
  {
   "cell_type": "code",
   "execution_count": null,
   "metadata": {},
   "outputs": [],
   "source": [
    "def borough_trends(city, time):\n",
    "    \n",
    "    # filtering for the city\n",
    "    borough_historic = clean[clean[\"city\"] == str(city)]\n",
    "    \n",
    "    # creating a .groupby() based on the time and findng the mean\n",
    "    borough_plot = borough_historic.groupby(time.lower())[\"median_listing_price\", \"avg_listing_price\"].mean()\n",
    "    \n",
    "    #plotting the .groupby()\n",
    "    borough_plot.plot(kind = \"line\", figsize = [10,5], rot = 0)\n",
    "    \n",
    "    # setting the graph's labels, titles, and legend\n",
    "    plt.title(f\"Overall Trends In {city}\", size = 18)\n",
    "    plt.xlabel(time, size = 16)\n",
    "    plt.ylabel(\"Price\", size = 16)\n",
    "    plt.xticks(size = 14) \n",
    "    plt.yticks(size = 14)\n",
    "    plt.legend(bbox_to_anchor = (1.04,1), loc = \"upper left\")\n",
    "\n",
    "\n",
    "def neighborhood_trends(city, neighborhood, time):\n",
    "    \n",
    "    # filtering for the city\n",
    "    borough = clean[clean[\"city\"] == str(city)]\n",
    "    \n",
    "    # filtering for the neighborhood\n",
    "    ngbh = borough[borough[\"neighborhood\"] == str(neighborhood.lower())]\n",
    "     \n",
    "    # creating a neighborhood groupby from the time and finding the mean\n",
    "    ngbh_plot = ngbh.groupby(time.lower())[\"avg_listing_price\", \"median_listing_price\"].mean()\n",
    "    \n",
    "    # plotting the groupby\n",
    "    ngbh_plot.plot(kind = \"line\", figsize = [10,5], rot = 0)\n",
    "    \n",
    "    # creating a cleaner version of the neighborhood\n",
    "    new_neighborhood = neighborhood.replace(\"_\",\" \").title()\n",
    "    \n",
    "    # setting the graph's title, labels, and legend\n",
    "    plt.title(f\"Trends In {new_neighborhood}\", size = 18)\n",
    "    plt.xlabel(time, size = 16)\n",
    "    plt.ylabel(\"Price\", size = 16)\n",
    "    plt.xticks(size = 14)\n",
    "    plt.yticks(size = 14)\n",
    "    plt.legend(bbox_to_anchor = (1.04,1), loc = \"upper left\")\n",
    "\n",
    "def single_city(city):\n",
    "    \n",
    "    # filtering for the city\n",
    "    borough   = clean[clean[\"city\"] == str(city)]\n",
    "    \n",
    "    # creating a neighborhood groupby and finding the mean\n",
    "    ngbh_plot = borough.groupby(\"neighborhood\")[\"avg_listing_price\", \"median_listing_price\"].mean()\n",
    "    \n",
    "    # plotting the groupby\n",
    "    ngbh_plot.plot(kind = \"barh\", figsize = [12,7], rot = 0)\n",
    "    \n",
    "    # creating a cleaner version of the city\n",
    "    new_city = city.replace(\"_\",\" \").title()\n",
    "    \n",
    "    # setting the graph's title, labels, and legend\n",
    "    plt.title(f\"{new_city} Neighborhood Trends\", size = 18)\n",
    "    plt.xlabel(\"Neighborhood\", size = 16)\n",
    "    plt.ylabel(\"Price\", size = 16)\n",
    "    plt.xticks(size = 14)\n",
    "    plt.yticks(size = 14)\n",
    "    plt.legend(bbox_to_anchor = (1.04,1), loc = \"upper left\")\n",
    "    \n",
    "def single_zip_agg(code):\n",
    "    \n",
    "    # filtering for the zipcode\n",
    "    borough   = clean[clean[\"zipcode\"] == int(code)]\n",
    "    \n",
    "    # creating a zipcode groupby for all years and finding the mean\n",
    "    zipcode   = borough.groupby(\"zipcode\")[\"avg_listing_price\", \"median_listing_price\"].mean()\n",
    "    \n",
    "    # plotting the groupby\n",
    "    zipcode.plot(kind = \"bar\", rot = 0);\n",
    "    \n",
    "    # setting the graph's title, labels, and legend\n",
    "    plt.title(f\"Real Estate Prices For Zipcode: {code}\", size = 18)\n",
    "    plt.xlabel(\"Neighborhood\", size = 16)\n",
    "    plt.ylabel(\"Price\", size = 16)\n",
    "    plt.xticks(size = 14)\n",
    "    plt.yticks(size = 14)\n",
    "    plt.legend(bbox_to_anchor = (1.04,1), loc = \"upper left\")\n",
    "    \n",
    "    \n",
    "def single_zip_annual(code):\n",
    "    \n",
    "    # filtering for the zipcode\n",
    "    borough = clean[clean[\"zipcode\"] == int(code)]\n",
    "    \n",
    "    # creating a zipcode groupby for each year and finding the mean\n",
    "    zipcode = borough.groupby(\"year\")[\"avg_listing_price\", \"median_listing_price\"].mean()\n",
    "    \n",
    "    # plotting the groupby\n",
    "    zipcode.plot(kind = \"line\", rot = 0);\n",
    "    \n",
    "    # setting the graph's title, labels, and legend\n",
    "    plt.title(f\"Real Estate Prices For Zipcode: {code}\", size = 18)\n",
    "    plt.xlabel(\"Year\", size = 16)\n",
    "    plt.ylabel(\"Price\", size = 16)\n",
    "    plt.xticks(size = 14)\n",
    "    plt.yticks(size = 14)\n",
    "    plt.legend(bbox_to_anchor = (1.04,1), loc = \"upper left\")\n",
    "\n",
    "# creating the unique lists to be used in error preventing    \n",
    "\n",
    "cities        = list(set(list(clean[\"city\"])))\n",
    "neighborhoods = list(set(list(clean[\"neighborhood\"])))\n",
    "zipcodes      = list(set(list(clean[\"zipcode\"])))"
   ]
  },
  {
   "cell_type": "markdown",
   "metadata": {},
   "source": [
    "[Top](#Table-Of-Contents)"
   ]
  },
  {
   "cell_type": "markdown",
   "metadata": {},
   "source": [
    "## User Input Functions"
   ]
  },
  {
   "cell_type": "code",
   "execution_count": null,
   "metadata": {},
   "outputs": [],
   "source": [
    "def borough_aggregates():\n",
    "    \n",
    "    # Filtering to a county\n",
    "    primary_input   = str(input(\"Please Enter Manhattan Or Brooklyn: \"))\n",
    "    \n",
    "    # Selecting monthly or annual averages\n",
    "    yearmonth_input = str(input(\"Please Enter Month, Year, Or Exit: \"))\n",
    "    \n",
    "    # The `if` statement checks to make sure the `primary_input` is valid\n",
    "    # If it isn't it tells the user to check their input\n",
    "    if primary_input in cities:\n",
    "        borough_trends(city = primary_input, time = yearmonth_input);\n",
    "    else:\n",
    "        print(f\"We Do Not Have Information For {primary_input}\")"
   ]
  },
  {
   "cell_type": "code",
   "execution_count": null,
   "metadata": {},
   "outputs": [],
   "source": [
    "def neighborhood_aggregates():\n",
    "\n",
    "    # Filtering by county\n",
    "    primary_input      = str(input(\"Please Choose Manhattan Or Brooklyn: \"))\n",
    "    \n",
    "    # Selecting monthly or annual averages\n",
    "    yearmonth_input    = str(input(\"Please Enter Month Or Year: \"))\n",
    "    \n",
    "    # Choosing a specific neighborhood\n",
    "    neighborhood_input = str(input(\"Please Enter A Neighborhood: \"))\n",
    "    \n",
    "    # Making sure the `neighborhood_input` is valid\n",
    "    # If it isn't, it asks the user to check their input\n",
    "    if neighborhood_input.lower() in neighborhoods:    \n",
    "        neighborhood_trends(primary_input, neighborhood_input.lower(), yearmonth_input);\n",
    "    else:\n",
    "        print(f\"We Do Not Have Information For {neighborhood_input}\")"
   ]
  },
  {
   "cell_type": "code",
   "execution_count": null,
   "metadata": {},
   "outputs": [],
   "source": [
    "def city_neighborhoods():\n",
    "    \n",
    "    # Filtering by county\n",
    "    primary_input = str(input(\"Please Choose Manhattan Or Brooklyn: \"))\n",
    "    \n",
    "    # Checking that the county entered is spelled correctly\n",
    "    # If it isn't, it reminds the user to check their input\n",
    "    if primary_input in cities:\n",
    "            single_city(primary_input);\n",
    "    else:\n",
    "        print(f\"We Do Not Have Information For {primary_input}\")"
   ]
  },
  {
   "cell_type": "code",
   "execution_count": null,
   "metadata": {},
   "outputs": [],
   "source": [
    "def zipcode_single():\n",
    "    \n",
    "    # Selecting for annual or aggregate prices\n",
    "    primary_input = str(input(\"Please Aggregate Or Annual: \"))\n",
    "    \n",
    "    # Aggregate refers to averages across all years in the data\n",
    "    if primary_input == \"Aggregate\":\n",
    "        \n",
    "        # Asking for a zip code\n",
    "        sub_input = int(input(\"Please Enter A Zip code: \"))\n",
    "        \n",
    "        # Making sure the zip code entered is a zip code in the data\n",
    "        if sub_input in zipcodes:\n",
    "            single_zip_agg(sub_input)\n",
    "        else:\n",
    "            print(f\"We Do Not Have Information For {sub_input}\")\n",
    "            \n",
    "    # Year refers to average by year\n",
    "    elif primary_input == \"Annual\":\n",
    "        sub_input = int(input(\"Please Enter A Zip code: \"))\n",
    "        \n",
    "        # Making sure that the zip code entered is in the data\n",
    "        if sub_input in zipcodes:\n",
    "            single_zip_annual(sub_input)\n",
    "        else:\n",
    "            print(f\"We Do Not Have Information For {sub_input}\")\n",
    "            \n",
    "    # If the user does not enter a zip code, this statement is printed\n",
    "    else:\n",
    "        print(\"Please Check Your Input!\")"
   ]
  },
  {
   "cell_type": "markdown",
   "metadata": {},
   "source": [
    "[Top](#Table-Of-Contents)"
   ]
  },
  {
   "cell_type": "markdown",
   "metadata": {},
   "source": [
    "## Running The Input Functions"
   ]
  },
  {
   "cell_type": "code",
   "execution_count": null,
   "metadata": {},
   "outputs": [],
   "source": [
    "borough_aggregates()"
   ]
  },
  {
   "cell_type": "code",
   "execution_count": null,
   "metadata": {
    "scrolled": false
   },
   "outputs": [],
   "source": [
    "neighborhood_aggregates()"
   ]
  },
  {
   "cell_type": "code",
   "execution_count": null,
   "metadata": {},
   "outputs": [],
   "source": [
    "city_neighborhoods()"
   ]
  },
  {
   "cell_type": "code",
   "execution_count": null,
   "metadata": {},
   "outputs": [],
   "source": [
    "zipcode_single()"
   ]
  },
  {
   "cell_type": "markdown",
   "metadata": {},
   "source": [
    "[Top](#Table-Of-Contents)"
   ]
  }
 ],
 "metadata": {
  "kernelspec": {
   "display_name": "Python 3",
   "language": "python",
   "name": "python3"
  },
  "language_info": {
   "codemirror_mode": {
    "name": "ipython",
    "version": 3
   },
   "file_extension": ".py",
   "mimetype": "text/x-python",
   "name": "python",
   "nbconvert_exporter": "python",
   "pygments_lexer": "ipython3",
   "version": "3.7.3"
  }
 },
 "nbformat": 4,
 "nbformat_minor": 2
}
